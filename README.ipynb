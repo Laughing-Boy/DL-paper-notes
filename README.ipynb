{
 "cells": [
  {
   "cell_type": "markdown",
   "metadata": {},
   "source": [
    "# 3D Motion Planning\n",
    "\n",
    "Second project of Udacity's Flying Car Nanodegree. It involves planning and executing a trajectory of a drone in an urban environment. Based on the previous event-based strategy utilized first project. The code uses Udacity FCND Simulator via Udacidrone API.\n"
   ]
  },
  {
   "cell_type": "markdown",
   "metadata": {},
   "source": [
    "## Project Description\n",
    "\n",
    "__motion-planning.py__: Based on the provided code, this extends the complexity of path planning in a 3 dimensional environment with features:\n",
    " - setting goal location from a command line argument (eg.: --lon_goal -127.30185976 --lat_goal 27.79763813 --alt_goal -0.141)\n",
    " - global home is read from the colliders.csv, which was also provided\n",
    " - the path that has been calculated is pruned as well with collinearity to disregard any unusable waypoints\n",
    " \n",
    "__planning_utils.py__: Also based on a given file and extends its functions providing assistance to motion-planning.py with its key functions finished with A* search algorithm.\n",
    "\n",
    "Apart from README.md - and the files mentioned above-, everything else is part of the seed project."
   ]
  },
  {
   "cell_type": "markdown",
   "metadata": {},
   "source": [
    "## Project Rubric\n",
    "\n",
    "### Writeup -\n",
    "\n",
    "Providing a Witeup / README that includes all the rubric points and how I addressed each one.\n",
    "\n",
    "\n",
    "### Explaining the Starter Code - \n",
    "\n",
    "Tesing that __motion-planning.py__ is a modified version of __backyard_flyer_solution.py__ for a simple path planning.\n",
    "\n",
    "They both use _finite-state machine_ for command, therefore they are similar. But while __backyard_flyer__'s structure is: \n",
    "\n",
    "START >> MANUAL >> ARMING >> TAKEOFF >> WAYPOINT(S) >> LANDING >> DISARMING >> MANUAL\n",
    "\n",
    "__motion-planning__'s a bit different:\n",
    "\n",
    "START >> MANUAL >> ARMING >> __PLANNING__ >> TAKEOFF >> WAYPOINT(S) >> LANDING >> DISARMING >> MANUAL\n",
    "\n",
    "• _line 74 - 94_ : Path planning involves this newly required PLANNING state that has been implemented in the __state_callback__  method\n",
    "<br\\>\n",
    "\n",
    "• _line 153_ : __path_plan__-method is called where at the beginning, the new map for planning is loaded \n",
    "<br\\>\n",
    "• _line 181_ : An outside module from __planning_utils.py__ is called here, the __create_grid__\n",
    "<br\\>\n",
    "\n",
    "• _line 198_ : A* algorithm, also as an outside module from __planning_utils__ is called to find the path to the goal\n",
    "<br\\>\n",
    "\n",
    "• _line 208 - 211_ : After A* the waypoints are generated and sent to the API \n",
    "\n",
    "\n",
    "### Implementing the Path Planning algorithm - \n",
    "\n",
    "• _line 163 - 164_ : In the starter code, we assumed that the home position is where the drone first initializes, but in reality we need to be able to start planning from anywhere. The code has been modified to read the global home location from the first line of the __colliders.csv__ and set that position as global home _self.set_home_position()_ It uses an outside module from __planning_utils__, the __read_home__\n",
    "<br\\>\n",
    "\n",
    "• _line 171_ : In the starter code we assumed that the drone takes off from the map center, but we needed the vehicle to be able to takeoff from anywhere. This part retrieves the current position in geodetic coordinates from __self._latitude()__, __self._longitude()__ and __self._altitude()__. Then use the utility function __global_to_local()__ to convert to local position using __self.global_home()__ as well, which was just set above\n",
    "<br\\>\n",
    "\n",
    "• _line 185 - 186_ : In the starter code the start point for planning is hardcoded as map center. It has been changed to be our current local position\n",
    "<br\\>\n",
    "\n",
    "• _line 191 - 192_ : In the starter code the goal position is hardcoded as some location 10 m north and 10 m east of map center. This has been modified to be set as some arbitrary position on the grid, given any geodetic coordinates (latitude, longitude)\n",
    "<br\\>\n",
    "\n",
    "• __planning_utils__ _line 58 - 61_ : This is the search algorithm. A diagonal motion is added to the A* implementation provided, and assigned them a cost of sqrt(2) \n",
    "<br\\>\n",
    "\n",
    "• _line 201_ : Culling waypoints from the determinded path using search. An outside collinearity check is used from __planning_utils__"
   ]
  },
  {
   "cell_type": "markdown",
   "metadata": {},
   "source": [
    "## Running the code\n",
    "\n",
    "#### Pre-requisites needed:\n",
    " - Python 3.6  \n",
    " - Udacity FCND Simulator\n",
    "\n",
    "command with an example goal:\n",
    "\n",
    "<mark>python motion-planning.py --lon_goal -122.40195876 --lat_goal 37.79673913 --alt_goal -0.147</mark>"
   ]
  },
  {
   "cell_type": "code",
   "execution_count": null,
   "metadata": {},
   "outputs": [],
   "source": []
  }
 ],
 "metadata": {
  "kernelspec": {
   "display_name": "Python 3",
   "language": "python",
   "name": "python3"
  },
  "language_info": {
   "codemirror_mode": {
    "name": "ipython",
    "version": 3
   },
   "file_extension": ".py",
   "mimetype": "text/x-python",
   "name": "python",
   "nbconvert_exporter": "python",
   "pygments_lexer": "ipython3",
   "version": "3.6.4"
  }
 },
 "nbformat": 4,
 "nbformat_minor": 2
}
